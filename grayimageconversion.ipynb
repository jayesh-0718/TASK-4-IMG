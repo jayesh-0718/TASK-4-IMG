{
 "cells": [
  {
   "cell_type": "markdown",
   "id": "d8425183",
   "metadata": {},
   "source": [
    "# Image Conversion"
   ]
  },
  {
   "cell_type": "code",
   "execution_count": 1,
   "id": "58eb72bb",
   "metadata": {},
   "outputs": [],
   "source": [
    "import cv2"
   ]
  },
  {
   "cell_type": "code",
   "execution_count": 2,
   "id": "e8975cc7",
   "metadata": {},
   "outputs": [],
   "source": [
    "img = cv2.imread(\"flowerimg.jpeg\")"
   ]
  },
  {
   "cell_type": "code",
   "execution_count": 3,
   "id": "1023971b",
   "metadata": {},
   "outputs": [
    {
     "data": {
      "text/plain": [
       "True"
      ]
     },
     "execution_count": 3,
     "metadata": {},
     "output_type": "execute_result"
    }
   ],
   "source": [
    "# to convert the colorful image to grey image\n",
    "covertedimage = cv2.cvtColor(img , cv2.COLOR_BGR2GRAY)\n",
    "\n",
    "#to save the above converted image\n",
    "cv2.imwrite(\"Convertedimg.jpeg\" , covertedimage)"
   ]
  },
  {
   "cell_type": "code",
   "execution_count": 4,
   "id": "9fca00db",
   "metadata": {},
   "outputs": [],
   "source": [
    "#To show the original image\n",
    "cv2.imshow(\"Original Image\", img)\n",
    "\n",
    "cv2.waitKey()\n",
    "cv2.destroyAllWindows()\n"
   ]
  },
  {
   "cell_type": "code",
   "execution_count": 5,
   "id": "564af610",
   "metadata": {},
   "outputs": [],
   "source": [
    "# To show the  Converted Image\n",
    "cv2.imshow(\"Change Image\", covertedimage)\n",
    "\n",
    "cv2.waitKey()\n",
    "cv2.destroyAllWindows()\n"
   ]
  },
  {
   "cell_type": "code",
   "execution_count": null,
   "id": "de19e693",
   "metadata": {},
   "outputs": [],
   "source": []
  },
  {
   "cell_type": "code",
   "execution_count": null,
   "id": "3fbb72a2",
   "metadata": {},
   "outputs": [],
   "source": []
  }
 ],
 "metadata": {
  "kernelspec": {
   "display_name": "Python 3",
   "language": "python",
   "name": "python3"
  },
  "language_info": {
   "codemirror_mode": {
    "name": "ipython",
    "version": 3
   },
   "file_extension": ".py",
   "mimetype": "text/x-python",
   "name": "python",
   "nbconvert_exporter": "python",
   "pygments_lexer": "ipython3",
   "version": "3.8.3"
  }
 },
 "nbformat": 4,
 "nbformat_minor": 5
}
